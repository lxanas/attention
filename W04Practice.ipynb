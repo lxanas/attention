{
 "cells": [
  {
   "cell_type": "code",
   "execution_count": null,
   "metadata": {
    "pycharm": {
     "name": "#%%\n"
    }
   },
   "outputs": [],
   "source": [
    "from curses.ascii import isupper\n",
    "\n",
    "\n",
    "file = open(\"runners.txt\",'r')\n",
    "text = file.read()\n",
    "for i in range(len(text)):\n",
    "    if text[i].isupper():\n",
    "        print(text[i:i+3])\n",
    "file.close()\n"
   ]
  },
  {
   "cell_type": "code",
   "execution_count": null,
   "metadata": {
    "pycharm": {
     "name": "#%%\n"
    }
   },
   "outputs": [],
   "source": [
    "infile = open(\"runners.txt\",'r')\n",
    "line = infile.readline()\n",
    "while line!= \"\":\n",
    "    print(line[0:3])\n",
    "    line = infile.readline()\n",
    "infile.close()"
   ]
  },
  {
   "cell_type": "code",
   "execution_count": 3,
   "metadata": {
    "pycharm": {
     "name": "#%%\n"
    }
   },
   "outputs": [
    {
     "name": "stdout",
     "output_type": "stream",
     "text": [
      "[12, 432, 543, 64, 5, 3, 7657, 4, 23, 654]\n"
     ]
    }
   ],
   "source": [
    "numbers = open(\"number.txt\",'r')\n",
    "number= list(numbers.read().split())\n",
    "\n",
    "listnumber2 = [int(n) for n in number]\n",
    "print(listnumber2)\n",
    "# listnumber = list(map(int,numbers.read().split()))\n",
    "# print(listnumber)\n",
    "# print(len(listnumber))\n",
    "# print(min(listnumber))\n",
    "\n"
   ]
  },
  {
   "cell_type": "code",
   "execution_count": null,
   "metadata": {
    "pycharm": {
     "name": "#%%\n"
    }
   },
   "outputs": [],
   "source": [
    "numbers = open(\"number.txt\",'r')\n",
    "number=[]\n",
    "for x in numbers:\n",
    "    print(x)"
   ]
  },
  {
   "cell_type": "code",
   "execution_count": 5,
   "metadata": {
    "pycharm": {
     "name": "#%%\n"
    }
   },
   "outputs": [
    {
     "name": "stdout",
     "output_type": "stream",
     "text": [
      "['CUHK', 'CityU', 'HKU', 'HKUST']\n"
     ]
    }
   ],
   "source": [
    "school = open(\"school.txt\",'r')\n",
    "school2 = open(\"school_2.txt\",'w')\n",
    "st = list(school.read().split())\n",
    "st.sort()\n",
    "print(st)\n",
    "for x in st:\n",
    "    school2.write(x+\"\\n\")\n",
    "school.close()\n",
    "school2.close()"
   ]
  },
  {
   "cell_type": "code",
   "execution_count": 1,
   "metadata": {
    "pycharm": {
     "name": "#%%\n"
    }
   },
   "outputs": [
    {
     "name": "stdout",
     "output_type": "stream",
     "text": [
      "['HKU', 'CUHK', 'CityU', 'HKUSTTHUPKUBUAABITTHUPKUBUAABITTHUPKUBUAABITTHUPKUBUAABITTHUPKUBUAABITTHU', 'PKU', 'BUAA', 'BIT']\n"
     ]
    }
   ],
   "source": [
    "infile = open(\"school.txt\",'r')\n",
    "aa=[x.rstrip() for x in infile]\n",
    "print(aa)"
   ]
  },
  {
   "cell_type": "code",
   "execution_count": 9,
   "metadata": {
    "pycharm": {
     "name": "#%%\n"
    }
   },
   "outputs": [],
   "source": [
    "change = open(\"school.txt\",'a')\n",
    "newschool = [\"PKU\",\"THU\",\"BUAA\",\"BIT\"]\n",
    "change.writelines(newschool)\n",
    "# change.write(newschool)\n",
    "for i in newschool:\n",
    "    change.write(i+\"\\n\")\n",
    "change.close()"
   ]
  }
 ],
 "metadata": {
  "kernelspec": {
   "display_name": "Python 3.9.12 ('attention')",
   "language": "python",
   "name": "python3"
  },
  "language_info": {
   "codemirror_mode": {
    "name": "ipython",
    "version": 3
   },
   "file_extension": ".py",
   "mimetype": "text/x-python",
   "name": "python",
   "nbconvert_exporter": "python",
   "pygments_lexer": "ipython3",
   "version": "3.9.12"
  },
  "orig_nbformat": 4,
  "vscode": {
   "interpreter": {
    "hash": "7e18da68d4e4c7f97a568d83cd3507d8150afe534e97a26f80574316f3b34749"
   }
  }
 },
 "nbformat": 4,
 "nbformat_minor": 2
}