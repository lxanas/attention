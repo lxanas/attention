{
 "cells": [
  {
   "cell_type": "code",
   "execution_count": null,
   "metadata": {
    "collapsed": true,
    "pycharm": {
     "name": "#%%\n"
    }
   },
   "outputs": [],
   "source": [
    "a = 1,2,3,4\n",
    "aa=list(a)\n",
    "aa"
   ]
  },
  {
   "cell_type": "markdown",
   "metadata": {
    "pycharm": {
     "name": "#%% md\n"
    }
   },
   "source": [
    "### WK2_1.1"
   ]
  },
  {
   "cell_type": "code",
   "execution_count": null,
   "metadata": {
    "collapsed": false,
    "pycharm": {
     "name": "#%%\n"
    }
   },
   "outputs": [],
   "source": [
    "digit = \"9876543219\"\n",
    "a = list(digit)\n",
    "a.insert(3, '-')\n",
    "a.insert(7, '-')\n",
    "str = \"\"\n",
    "# for s in a:\n",
    "#     str = str+s\n",
    "str = str.join(a)\n",
    "print(str)\n"
   ]
  },
  {
   "cell_type": "markdown",
   "metadata": {
    "pycharm": {
     "name": "#%% md\n"
    }
   },
   "source": [
    "### WK2_1.2"
   ]
  },
  {
   "cell_type": "code",
   "execution_count": 1,
   "metadata": {
    "pycharm": {
     "name": "#%%\n"
    }
   },
   "outputs": [
    {
     "name": "stdout",
     "output_type": "stream",
     "text": [
      "Largest Number: 8\n",
      "Length: 4\n",
      "Total: 16\n",
      "Number list:  [6, 2, 8, 0]\n"
     ]
    }
   ],
   "source": [
    "numbers = 6,2,8,0\n",
    "print(\"Largest Number: {0:n}\".format(max(numbers)))\n",
    "print(\"Length: {0:n}\".format(len(numbers)))\n",
    "print(\"Total: {0:n}\".format(sum(numbers)))\n",
    "print(\"Number list: \",list(numbers))\n",
    "type(max(a))"
   ]
  },
  {
   "cell_type": "markdown",
   "metadata": {
    "pycharm": {
     "name": "#%% md\n"
    }
   },
   "source": [
    "### WK2_1.3"
   ]
  },
  {
   "cell_type": "code",
   "execution_count": 2,
   "metadata": {
    "pycharm": {
     "name": "#%%\n"
    }
   },
   "outputs": [],
   "source": [
    "companies = [('Apple', 'Cupertino', 'CA'), ('Amazon', 'Seattle','WA'), ('Google', 'Mountain View', 'CA')]\n",
    "# to display Apple is located in Cupertino city, California state\n",
    "a=companies[0]\n"
   ]
  },
  {
   "cell_type": "code",
   "execution_count": 6,
   "metadata": {
    "pycharm": {
     "name": "#%%\n"
    }
   },
   "outputs": [
    {
     "name": "stdout",
     "output_type": "stream",
     "text": [
      "Apple is located in Cupertino city,CA\n"
     ]
    }
   ],
   "source": [
    "print(a[0],'is located in',a[1],'city,'+a[2])"
   ]
  },
  {
   "cell_type": "code",
   "execution_count": 8,
   "metadata": {
    "pycharm": {
     "name": "#%%\n"
    }
   },
   "outputs": [
    {
     "name": "stdout",
     "output_type": "stream",
     "text": [
      "a b c\n",
      "a3b3c\n"
     ]
    }
   ],
   "source": [
    "line = ['a','b','c']\n",
    "print(\" \".join(line))\n",
    "print(\"3\".join(line))"
   ]
  },
  {
   "cell_type": "code",
   "execution_count": 9,
   "metadata": {
    "pycharm": {
     "name": "#%%\n"
    }
   },
   "outputs": [
    {
     "data": {
      "text/plain": [
       "['aaaaaafsdafsdaf', 'b', 'c']"
      ]
     },
     "execution_count": 9,
     "metadata": {},
     "output_type": "execute_result"
    }
   ],
   "source": [
    "list2=['aaaaaafsdafsdaf','b','c']\n",
    "list2.sort()\n",
    "list2"
   ]
  }
 ],
 "metadata": {
  "kernelspec": {
   "display_name": "Python 3.9.12 ('attention')",
   "language": "python",
   "name": "python3"
  },
  "language_info": {
   "codemirror_mode": {
    "name": "ipython",
    "version": 3
   },
   "file_extension": ".py",
   "mimetype": "text/x-python",
   "name": "python",
   "nbconvert_exporter": "python",
   "pygments_lexer": "ipython3",
   "version": "3.9.12"
  },
  "vscode": {
   "interpreter": {
    "hash": "7e18da68d4e4c7f97a568d83cd3507d8150afe534e97a26f80574316f3b34749"
   }
  }
 },
 "nbformat": 4,
 "nbformat_minor": 0
}