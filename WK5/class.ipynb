{
 "cells": [
  {
   "cell_type": "code",
   "execution_count": 1,
   "metadata": {
    "collapsed": true,
    "pycharm": {
     "name": "#%%\n"
    }
   },
   "outputs": [
    {
     "name": "stdout",
     "output_type": "stream",
     "text": [
      "[10, 15, 20, 30, 70]\n"
     ]
    }
   ],
   "source": [
    "lst1=[10,15,20,25,30,35,40,70]\n",
    "lst2=[25,40,35,99]\n",
    "lst3=[]\n",
    "for x in lst1:\n",
    "    if x in lst2:\n",
    "        continue\n",
    "    else:\n",
    "        lst3.append(x)\n",
    "print(lst3)"
   ]
  },
  {
   "cell_type": "code",
   "execution_count": 10,
   "metadata": {},
   "outputs": [
    {
     "name": "stdout",
     "output_type": "stream",
     "text": [
      "[10, 15, 20, 30, 70]\n"
     ]
    }
   ],
   "source": [
    "lst4=[x for x in lst1 if x not in lst2]\n",
    "print(lst4)"
   ]
  },
  {
   "cell_type": "code",
   "execution_count": 11,
   "metadata": {},
   "outputs": [
    {
     "name": "stdout",
     "output_type": "stream",
     "text": [
      "[70, 10, 15, 20, 30]\n"
     ]
    }
   ],
   "source": [
    "lst5=set(lst1)-set(lst2)\n",
    "print(list(lst5))"
   ]
  },
  {
   "cell_type": "code",
   "execution_count": 13,
   "metadata": {},
   "outputs": [
    {
     "name": "stdout",
     "output_type": "stream",
     "text": [
      "[10, 15, 20, 25, 30, 34, 35, 40, 70, 99]\n"
     ]
    }
   ],
   "source": [
    "lst1=[10,15,20,25,30,35,40,70]\n",
    "lst2=[25,40,35,99]\n",
    "lst3=[20,30,34,15]\n",
    "for x in lst1:\n",
    "    if x not in lst3:\n",
    "        lst3.append(x)\n",
    "for x in lst2:\n",
    "    if x not in lst3:\n",
    "        lst3.append(x)\n",
    "lst3.sort()\n",
    "print(lst3)"
   ]
  },
  {
   "cell_type": "code",
   "execution_count": 19,
   "metadata": {},
   "outputs": [
    {
     "name": "stdout",
     "output_type": "stream",
     "text": [
      "[10, 15, 20, 25, 30, 34, 35, 40, 70, 99]\n"
     ]
    }
   ],
   "source": [
    "lst1=[10,15,20,25,30,35,40,70]\n",
    "lst2=[25,40,35,99]\n",
    "lst3=[20,30,34,15]\n",
    "\n",
    "s=set(lst1+lst2+lst3)\n",
    "lst4=list(set(lst1+lst2+lst3))\n",
    "lst4.sort()\n",
    "print(lst4)"
   ]
  },
  {
   "cell_type": "code",
   "execution_count": 29,
   "metadata": {},
   "outputs": [
    {
     "name": "stdout",
     "output_type": "stream",
     "text": [
      "{11: 'eleven', 21: 'mike', 19: 'dustin', 46: 'caleb'}\n",
      "{'eleven': 11, 'mike': 21, 'dustin': 19, 'caleb': 46}\n",
      "{'eleven': 11, 'mike': 21, 'dustin': 19, 'caleb': 46}\n"
     ]
    }
   ],
   "source": [
    "tup = ((11, \"eleven\"), (21, \"mike\"), (19, \"dustin\"), (46, \"caleb\"))\n",
    "d1=dict(tup)\n",
    "print(d1)\n",
    "d2={}\n",
    "for k,v in tup:\n",
    "    d2[v]=k\n",
    "print(d2)\n",
    "d3=dict((y,x) for x,y in tup)\n",
    "print(d3)"
   ]
  },
  {
   "cell_type": "code",
   "execution_count": 30,
   "metadata": {},
   "outputs": [
    {
     "name": "stdout",
     "output_type": "stream",
     "text": [
      "{'852': 'HK', 20: 'GZ', 21: 'SH', 28: 'CD'}\n"
     ]
    }
   ],
   "source": [
    "lst=[['852', 'HK'], [20,'GZ'], [21,'SH'],[28,'CD']]\n",
    "dict1=dict(lst)\n",
    "print(dict1)"
   ]
  },
  {
   "cell_type": "code",
   "execution_count": 37,
   "metadata": {},
   "outputs": [
    {
     "name": "stdout",
     "output_type": "stream",
     "text": [
      "['S001', 'S002', 'S001', 'S005', 'S005', 'S009']\n"
     ]
    }
   ],
   "source": [
    "L = [{\"V\":\"S001\"}, {\"V\": \"S002\"}, {\"VI\": \"S001\"}, {\"VI\": \"S005\"}, {\"VII\":\"S005\"}, {\"V\":\"S009\"}]\n",
    "# d = dict(L)\n",
    "# vl = [x for x in d.values()]\n",
    "# print(vl)\n",
    "# vl2 = [x for x in d.values if x not in vl2]\n",
    "# print(vl2)\n",
    "v = []\n",
    "for a in L:\n",
    "    for b in a.values():\n",
    "        v.append(b)\n",
    "print(v)\n"
   ]
  }
 ],
 "metadata": {
  "kernelspec": {
   "display_name": "Python 3.9.12 ('attention')",
   "language": "python",
   "name": "python3"
  },
  "language_info": {
   "codemirror_mode": {
    "name": "ipython",
    "version": 3
   },
   "file_extension": ".py",
   "mimetype": "text/x-python",
   "name": "python",
   "nbconvert_exporter": "python",
   "pygments_lexer": "ipython3",
   "version": "3.9.12"
  },
  "vscode": {
   "interpreter": {
    "hash": "7e18da68d4e4c7f97a568d83cd3507d8150afe534e97a26f80574316f3b34749"
   }
  }
 },
 "nbformat": 4,
 "nbformat_minor": 0
}
